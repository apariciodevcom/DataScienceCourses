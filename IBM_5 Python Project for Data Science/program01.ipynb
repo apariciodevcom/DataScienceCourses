{
 "cells": [
  {
   "cell_type": "code",
   "execution_count": 11,
   "id": "5e5a7a9f",
   "metadata": {},
   "outputs": [
    {
     "ename": "ImportError",
     "evalue": "cannot import name 'fetch_mldata' from 'sklearn' (C:\\Users\\leant\\anaconda3\\envs\\Python_3912A\\lib\\site-packages\\sklearn\\__init__.py)",
     "output_type": "error",
     "traceback": [
      "\u001b[1;31m---------------------------------------------------------------------------\u001b[0m",
      "\u001b[1;31mImportError\u001b[0m                               Traceback (most recent call last)",
      "Input \u001b[1;32mIn [11]\u001b[0m, in \u001b[0;36m<cell line: 1>\u001b[1;34m()\u001b[0m\n\u001b[1;32m----> 1\u001b[0m \u001b[38;5;28;01mfrom\u001b[39;00m \u001b[38;5;21;01msklearn\u001b[39;00m \u001b[38;5;28;01mimport\u001b[39;00m fetch_mldata\n",
      "\u001b[1;31mImportError\u001b[0m: cannot import name 'fetch_mldata' from 'sklearn' (C:\\Users\\leant\\anaconda3\\envs\\Python_3912A\\lib\\site-packages\\sklearn\\__init__.py)"
     ]
    }
   ],
   "source": [
    "from sklearn import fetch_mldata"
   ]
  },
  {
   "cell_type": "code",
   "execution_count": 3,
   "id": "fb0b2a0c",
   "metadata": {},
   "outputs": [],
   "source": [
    "import sklearn"
   ]
  },
  {
   "cell_type": "markdown",
   "id": "b23a3963",
   "metadata": {},
   "source": [
    "## Recepcion de materias primas\n",
    "Arena\n",
    "Soda\n",
    "Dolomita\n",
    "Caliza\n",
    "Nitrato de Sodio\n",
    "Sulfato de Sodio\n",
    "CArbon\n",
    "Oxido de Hierro\n",
    "Proveedores y plan de carga\n",
    "Codigo por cada recepcion"
   ]
  },
  {
   "cell_type": "markdown",
   "id": "b3d095ac",
   "metadata": {},
   "source": [
    "## Sistema de pesaje y dosificacion\n",
    "Codigo por cada batch, consumos de materia prima"
   ]
  },
  {
   "cell_type": "markdown",
   "id": "63649587",
   "metadata": {},
   "source": [
    "## Sistema de mezcla y transporte del batch\n",
    "codigo por batch, homogeneizacion, lugar en tolva, humedad"
   ]
  },
  {
   "cell_type": "markdown",
   "id": "07ac1ced",
   "metadata": {},
   "source": [
    "## Sistema de alimentacion del horno"
   ]
  },
  {
   "cell_type": "markdown",
   "id": "d39aa3fb",
   "metadata": {},
   "source": [
    "## Movimiento y flujo de la masa vitrea en el horno"
   ]
  },
  {
   "cell_type": "markdown",
   "id": "3feecf33",
   "metadata": {},
   "source": [
    "## Refinacion"
   ]
  },
  {
   "cell_type": "markdown",
   "id": "ec1fd7ad",
   "metadata": {},
   "source": [
    "## Formacion de la hoja"
   ]
  },
  {
   "cell_type": "markdown",
   "id": "3a27aff9",
   "metadata": {},
   "source": [
    "## Sistema de corte"
   ]
  },
  {
   "cell_type": "markdown",
   "id": "3fcc1299",
   "metadata": {},
   "source": [
    "## Sistema de empaque"
   ]
  },
  {
   "cell_type": "markdown",
   "id": "24e87cc1",
   "metadata": {},
   "source": [
    "## Sistema de despacho"
   ]
  },
  {
   "cell_type": "markdown",
   "id": "413dc93a",
   "metadata": {},
   "source": [
    "# Otro sistema\n",
    "## Sistema de pagos online"
   ]
  },
  {
   "cell_type": "code",
   "execution_count": null,
   "id": "93275e61",
   "metadata": {},
   "outputs": [],
   "source": []
  }
 ],
 "metadata": {
  "kernelspec": {
   "display_name": "Python 3 (ipykernel)",
   "language": "python",
   "name": "python3"
  },
  "language_info": {
   "codemirror_mode": {
    "name": "ipython",
    "version": 3
   },
   "file_extension": ".py",
   "mimetype": "text/x-python",
   "name": "python",
   "nbconvert_exporter": "python",
   "pygments_lexer": "ipython3",
   "version": "3.9.12"
  }
 },
 "nbformat": 4,
 "nbformat_minor": 5
}
